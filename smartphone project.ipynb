{
 "cells": [
  {
   "cell_type": "markdown",
   "id": "6f5a03c9-84fa-4c72-84f5-9c7469238302",
   "metadata": {},
   "source": [
    "### The following are the Features of the dataset:\n",
    "<img src=\"Images/Features.png\" alt=\"Alternative text\" />\n",
    "0 = No,\n",
    "1 = Yes"
   ]
  },
  {
   "cell_type": "code",
   "execution_count": 2,
   "id": "6b75b794-2e5c-41bf-a54d-e6dfd20b7073",
   "metadata": {},
   "outputs": [],
   "source": [
    "#Importing the Libraries\n",
    "import pandas as pd\n",
    "import numpy as np\n",
    "import seaborn as sns\n",
    "import matplotlib.pyplot as plt\n",
    "import seaborn as sns\n",
    "import math\n",
    "from sklearn import tree\n",
    "from sklearn import metrics\n",
    "import plotly.express as px\n",
    "from sklearn.model_selection import train_test_split\n",
    "from sklearn.preprocessing import MinMaxScaler\n",
    "from sklearn.preprocessing import StandardScaler\n",
    "from sklearn.linear_model import LogisticRegression\n",
    "\n",
    "from sklearn.metrics import confusion_matrix\n",
    "from sklearn.metrics import classification_report\n",
    "\n",
    "import warnings\n",
    "warnings.filterwarnings(\"ignore\")"
   ]
  },
  {
   "cell_type": "code",
   "execution_count": 3,
   "id": "8e4bb500-2751-4bb7-9d7e-69704d59d0eb",
   "metadata": {},
   "outputs": [],
   "source": [
    "#Importing the training data into a pandas dataframe\n",
    "df = pd.read_csv('train.csv')"
   ]
  },
  {
   "cell_type": "code",
   "execution_count": 4,
   "id": "f9e39992-1f97-4337-ad04-d96f813cb5e3",
   "metadata": {},
   "outputs": [],
   "source": [
    "#Importing the unseen test dataset into a pandas dataframe\n",
    "df_test = pd.read_csv('test.csv')"
   ]
  }
 ],
 "metadata": {
  "kernelspec": {
   "display_name": "Python 3 (ipykernel)",
   "language": "python",
   "name": "python3"
  },
  "language_info": {
   "codemirror_mode": {
    "name": "ipython",
    "version": 3
   },
   "file_extension": ".py",
   "mimetype": "text/x-python",
   "name": "python",
   "nbconvert_exporter": "python",
   "pygments_lexer": "ipython3",
   "version": "3.11.0"
  }
 },
 "nbformat": 4,
 "nbformat_minor": 5
}
